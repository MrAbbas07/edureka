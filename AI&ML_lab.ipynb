{
  "cells": [
    {
      "cell_type": "markdown",
      "metadata": {
        "id": "view-in-github",
        "colab_type": "text"
      },
      "source": [
        "<a href=\"https://colab.research.google.com/github/MrAbbas07/edureka/blob/main/AI%26ML_lab.ipynb\" target=\"_parent\"><img src=\"https://colab.research.google.com/assets/colab-badge.svg\" alt=\"Open In Colab\"/></a>"
      ]
    },
    {
      "cell_type": "code",
      "source": [
        "import keyword\n",
        "print(keyword.kwlist)\n",
        "a=len(keyword.kwlist)\n",
        "print(a)"
      ],
      "metadata": {
        "id": "nwHnW-4bt7te",
        "outputId": "3f30e55e-cceb-4216-a413-e0aee6e8245d",
        "colab": {
          "base_uri": "https://localhost:8080/"
        }
      },
      "execution_count": null,
      "outputs": [
        {
          "output_type": "stream",
          "name": "stdout",
          "text": [
            "['False', 'None', 'True', 'and', 'as', 'assert', 'async', 'await', 'break', 'class', 'continue', 'def', 'del', 'elif', 'else', 'except', 'finally', 'for', 'from', 'global', 'if', 'import', 'in', 'is', 'lambda', 'nonlocal', 'not', 'or', 'pass', 'raise', 'return', 'try', 'while', 'with', 'yield']\n",
            "35\n"
          ]
        }
      ]
    },
    {
      "cell_type": "code",
      "source": [
        "print(\"Hello Abbas <3\")\n",
        "\"\"\"\n",
        "multi\n",
        "line\n",
        "comment\n",
        "\"\"\"\n",
        "print(\"Hello CSG Peaople\")"
      ],
      "metadata": {
        "id": "y03dHACSvWOg",
        "outputId": "4b4895ba-8eb8-4b6f-d9f5-00f297e3a24f",
        "colab": {
          "base_uri": "https://localhost:8080/"
        }
      },
      "execution_count": null,
      "outputs": [
        {
          "output_type": "stream",
          "name": "stdout",
          "text": [
            "Hello Abbas <3\n",
            "Hello CSG Peaople\n"
          ]
        }
      ]
    },
    {
      "cell_type": "code",
      "source": [
        "a=50\n",
        "b=50\n",
        "c=a+b\n",
        "print(c)\n",
        "c\n",
        "x=\"Hello peeps\"\n",
        "x"
      ],
      "metadata": {
        "id": "HmwaobARwEVC",
        "outputId": "2adfa4a3-c6da-4aba-b898-00e8d908a5aa",
        "colab": {
          "base_uri": "https://localhost:8080/",
          "height": 53
        }
      },
      "execution_count": null,
      "outputs": [
        {
          "output_type": "stream",
          "name": "stdout",
          "text": [
            "100\n"
          ]
        },
        {
          "output_type": "execute_result",
          "data": {
            "text/plain": [
              "'Hello peeps'"
            ],
            "application/vnd.google.colaboratory.intrinsic+json": {
              "type": "string"
            }
          },
          "metadata": {},
          "execution_count": 9
        }
      ]
    },
    {
      "cell_type": "code",
      "source": [
        "#creating a list with constructor()"
      ],
      "metadata": {
        "id": "-e6kbsekxcya"
      },
      "execution_count": null,
      "outputs": []
    },
    {
      "cell_type": "code",
      "source": [
        "a=([1,2,3,4,5])\n",
        "b=([2,4,7.0,6,8])\n",
        "c=([\"Hello\",\"Student\"])\n",
        "print(a)\n",
        "print(b)\n",
        "print(c)\n",
        "type(a)"
      ],
      "metadata": {
        "id": "gLZLub6h0FMy",
        "outputId": "9488578e-7b72-4f63-ad01-b1296fcf51ad",
        "colab": {
          "base_uri": "https://localhost:8080/"
        }
      },
      "execution_count": null,
      "outputs": [
        {
          "output_type": "stream",
          "name": "stdout",
          "text": [
            "[1, 2, 3, 4, 5]\n",
            "[2, 4, 7.0, 6, 8]\n",
            "['Hello', 'Student']\n"
          ]
        },
        {
          "output_type": "execute_result",
          "data": {
            "text/plain": [
              "list"
            ]
          },
          "metadata": {},
          "execution_count": 12
        }
      ]
    },
    {
      "cell_type": "code",
      "source": [
        "#Creating list with heterogenous data"
      ],
      "metadata": {
        "id": "2fFU9fM30YBS"
      },
      "execution_count": null,
      "outputs": []
    },
    {
      "cell_type": "code",
      "source": [
        "a=([\"Hello\",8,9,20.77])\n",
        "a"
      ],
      "metadata": {
        "id": "HW3FHntP4DAb",
        "outputId": "cecf35a1-aec6-43a0-a918-fba61b7de736",
        "colab": {
          "base_uri": "https://localhost:8080/"
        }
      },
      "execution_count": null,
      "outputs": [
        {
          "output_type": "execute_result",
          "data": {
            "text/plain": [
              "['Hello', 8, 9, 20.77]"
            ]
          },
          "metadata": {},
          "execution_count": 16
        }
      ]
    },
    {
      "cell_type": "code",
      "source": [
        "#Creating list using range functions:"
      ],
      "metadata": {
        "id": "KP1S1qy637rL"
      },
      "execution_count": null,
      "outputs": []
    },
    {
      "cell_type": "code",
      "source": [
        "L=list(range(0,6))\n",
        "print(L)"
      ],
      "metadata": {
        "id": "-1K5O1Ix4Rw6",
        "outputId": "aea0828d-9c51-4378-c3fc-918455ef2a06",
        "colab": {
          "base_uri": "https://localhost:8080/"
        }
      },
      "execution_count": null,
      "outputs": [
        {
          "output_type": "stream",
          "name": "stdout",
          "text": [
            "[0, 1, 2, 3, 4, 5]\n"
          ]
        }
      ]
    },
    {
      "cell_type": "code",
      "source": [
        "#Creating a list without constructor():"
      ],
      "metadata": {
        "id": "UrAuGkXV4Z5a"
      },
      "execution_count": null,
      "outputs": []
    },
    {
      "cell_type": "code",
      "source": [
        "days=[\"monday\",\"tuesday\",\"wednesday\",\"thursday\",\"friday\",\"saturday\",\"sunday\"]\n",
        "days"
      ],
      "metadata": {
        "id": "Bvj6Sjt24kd7",
        "outputId": "846a7dd9-5d02-4d1e-f517-0c69579a1804",
        "colab": {
          "base_uri": "https://localhost:8080/"
        }
      },
      "execution_count": null,
      "outputs": [
        {
          "output_type": "execute_result",
          "data": {
            "text/plain": [
              "['monday', 'tuesday', 'wednesday', 'thursday', 'friday', 'saturday', 'sunday']"
            ]
          },
          "metadata": {},
          "execution_count": 20
        }
      ]
    },
    {
      "cell_type": "code",
      "source": [
        "#Lab2"
      ],
      "metadata": {
        "id": "WtcuwGEZ4zkj"
      },
      "execution_count": null,
      "outputs": []
    },
    {
      "cell_type": "code",
      "source": [
        "#negative indexing\n",
        "days[-1]"
      ],
      "metadata": {
        "id": "C4Gpuu_Gvh7r",
        "outputId": "23128a10-bc99-46d6-c499-ae02445e1b86",
        "colab": {
          "base_uri": "https://localhost:8080/",
          "height": 35
        }
      },
      "execution_count": null,
      "outputs": [
        {
          "output_type": "execute_result",
          "data": {
            "text/plain": [
              "'sunday'"
            ],
            "application/vnd.google.colaboratory.intrinsic+json": {
              "type": "string"
            }
          },
          "metadata": {},
          "execution_count": 17
        }
      ]
    },
    {
      "cell_type": "code",
      "source": [
        "#list slicing\n",
        "days[1:4]"
      ],
      "metadata": {
        "id": "wrsgQfTwvnZL",
        "outputId": "cb0736d5-e17d-4cfb-967d-96fb8d9de4fb",
        "colab": {
          "base_uri": "https://localhost:8080/"
        }
      },
      "execution_count": null,
      "outputs": [
        {
          "output_type": "execute_result",
          "data": {
            "text/plain": [
              "['tuesday', 'wednesday', 'thursday']"
            ]
          },
          "metadata": {},
          "execution_count": 18
        }
      ]
    },
    {
      "cell_type": "code",
      "source": [
        "#list slicing with step size\n",
        "days[1:4:2]"
      ],
      "metadata": {
        "id": "GX1CidVwvpRh",
        "outputId": "ddb4ab07-5327-44c2-8b6f-e9cf5a27c746",
        "colab": {
          "base_uri": "https://localhost:8080/"
        }
      },
      "execution_count": null,
      "outputs": [
        {
          "output_type": "execute_result",
          "data": {
            "text/plain": [
              "['tuesday', 'thursday']"
            ]
          },
          "metadata": {},
          "execution_count": 19
        }
      ]
    },
    {
      "cell_type": "code",
      "source": [
        "days=[\"monday\",\"tuesday\",\"wednesday\",\"thursday\",\"friday\",\"saturday\",\"sunday\"]\n",
        "len(days)"
      ],
      "metadata": {
        "id": "vVsjoh1DwH1R",
        "outputId": "93fac32d-a4f6-41a6-fc2f-3e296ca2d08e",
        "colab": {
          "base_uri": "https://localhost:8080/"
        }
      },
      "execution_count": null,
      "outputs": [
        {
          "output_type": "execute_result",
          "data": {
            "text/plain": [
              "7"
            ]
          },
          "metadata": {},
          "execution_count": 22
        }
      ]
    },
    {
      "cell_type": "code",
      "source": [
        "numbers=(1,2,3,4,5,6,7,8)\n",
        "max(numbers)"
      ],
      "metadata": {
        "id": "farUdXvFwNRY",
        "outputId": "e706e50c-1d6e-4aa5-9f4d-0239114b3536",
        "colab": {
          "base_uri": "https://localhost:8080/"
        }
      },
      "execution_count": null,
      "outputs": [
        {
          "output_type": "execute_result",
          "data": {
            "text/plain": [
              "8"
            ]
          },
          "metadata": {},
          "execution_count": 24
        }
      ]
    },
    {
      "cell_type": "code",
      "source": [
        "min(numbers)"
      ],
      "metadata": {
        "id": "ktLxKhdewT7h",
        "outputId": "3f6ba635-e314-440d-888d-eb8fa52aac38",
        "colab": {
          "base_uri": "https://localhost:8080/"
        }
      },
      "execution_count": null,
      "outputs": [
        {
          "output_type": "execute_result",
          "data": {
            "text/plain": [
              "1"
            ]
          },
          "metadata": {},
          "execution_count": 25
        }
      ]
    },
    {
      "cell_type": "code",
      "source": [
        "sum(numbers)"
      ],
      "metadata": {
        "id": "O9vS17TBwYbh",
        "outputId": "b7b6d4c5-13e1-462a-b20f-d97d797ef36b",
        "colab": {
          "base_uri": "https://localhost:8080/"
        }
      },
      "execution_count": null,
      "outputs": [
        {
          "output_type": "execute_result",
          "data": {
            "text/plain": [
              "36"
            ]
          },
          "metadata": {},
          "execution_count": 26
        }
      ]
    },
    {
      "cell_type": "code",
      "source": [
        "import random\n",
        "numbers=[11,22,33,44,55,66,77,88,99,00]\n",
        "random.shuffle(numbers)\n",
        "print(numbers)"
      ],
      "metadata": {
        "id": "mqoHkQ5JwaVR",
        "outputId": "1267f227-3052-43dc-cd92-0d4d0d886421",
        "colab": {
          "base_uri": "https://localhost:8080/"
        }
      },
      "execution_count": null,
      "outputs": [
        {
          "output_type": "stream",
          "name": "stdout",
          "text": [
            "[33, 55, 66, 77, 0, 44, 99, 11, 88, 22]\n"
          ]
        }
      ]
    },
    {
      "cell_type": "code",
      "source": [
        "#examples on operastors\n",
        "\n",
        "a=[1,2,3]\n",
        "b=[4,5,6]\n",
        "c=a+b\n",
        "print(c)"
      ],
      "metadata": {
        "id": "OzenhyQBvqyh",
        "outputId": "5c6524a4-8dcc-42fd-dd1d-8ea4b98febf6",
        "colab": {
          "base_uri": "https://localhost:8080/"
        }
      },
      "execution_count": null,
      "outputs": [
        {
          "output_type": "stream",
          "name": "stdout",
          "text": [
            "[1, 2, 3, 4, 5, 6]\n"
          ]
        }
      ]
    },
    {
      "cell_type": "code",
      "source": [
        "a=[10,20]\n",
        "b=3*a\n",
        "print(b)"
      ],
      "metadata": {
        "id": "n8Odi9k5v90K",
        "outputId": "8aaab9c0-076d-4b8e-d88b-e7e88036337c",
        "colab": {
          "base_uri": "https://localhost:8080/"
        }
      },
      "execution_count": null,
      "outputs": [
        {
          "output_type": "stream",
          "name": "stdout",
          "text": [
            "[10, 20, 10, 20, 10, 20]\n"
          ]
        }
      ]
    },
    {
      "cell_type": "code",
      "source": [
        "days=[\"monday\",\"tuesday\",\"wednesday\",\"thursday\",\"friday\",\"saturday\",\"sunday\"]\n",
        "\"wednesday\" in days"
      ],
      "metadata": {
        "id": "MPKduvaEwDn5",
        "outputId": "24f8ac2b-5c5e-4c1d-eaa4-754f73ad282f",
        "colab": {
          "base_uri": "https://localhost:8080/"
        }
      },
      "execution_count": null,
      "outputs": [
        {
          "output_type": "execute_result",
          "data": {
            "text/plain": [
              "True"
            ]
          },
          "metadata": {},
          "execution_count": 28
        }
      ]
    },
    {
      "cell_type": "code",
      "source": [
        "days=[\"monday\",\"tuesday\",\"wednesday\",\"thursday\",\"friday\",\"saturday\",\"sunday\"]\n",
        "\"wednesday\" not in days"
      ],
      "metadata": {
        "id": "Yvbe6wW8xfR5",
        "outputId": "c3a458b5-9871-4e80-b2f6-176c8850a9b0",
        "colab": {
          "base_uri": "https://localhost:8080/"
        }
      },
      "execution_count": null,
      "outputs": [
        {
          "output_type": "execute_result",
          "data": {
            "text/plain": [
              "False"
            ]
          },
          "metadata": {},
          "execution_count": 29
        }
      ]
    },
    {
      "cell_type": "code",
      "source": [
        "days=[\"monday\",\"tuesday\",\"wednesday\",\"thursday\",\"friday\",\"saturday\",\"sunday\"]\n",
        "\"abbas\" in days"
      ],
      "metadata": {
        "id": "VkRDpEQExiKx",
        "outputId": "005b6f07-2eee-4aed-ab20-a6aa2ba659c8",
        "colab": {
          "base_uri": "https://localhost:8080/"
        }
      },
      "execution_count": null,
      "outputs": [
        {
          "output_type": "execute_result",
          "data": {
            "text/plain": [
              "False"
            ]
          },
          "metadata": {},
          "execution_count": 30
        }
      ]
    },
    {
      "cell_type": "code",
      "source": [
        "days=[\"monday\",\"tuesday\",\"wednesday\",\"thursday\",\"friday\",\"saturday\",\"sunday\"]\n",
        "\"abbas\" not in days"
      ],
      "metadata": {
        "id": "uiKq4bfaxl8p",
        "outputId": "fafddc52-2fab-4cfd-c336-e71b9d160b66",
        "colab": {
          "base_uri": "https://localhost:8080/"
        }
      },
      "execution_count": null,
      "outputs": [
        {
          "output_type": "execute_result",
          "data": {
            "text/plain": [
              "True"
            ]
          },
          "metadata": {},
          "execution_count": 31
        }
      ]
    },
    {
      "cell_type": "code",
      "source": [
        "a=\"Arshiya\"\n",
        "b=\"Arshiya\"\n",
        "a is b"
      ],
      "metadata": {
        "id": "nGBWj4N9xpT5",
        "outputId": "9480a4db-9ca9-41ee-cb86-840da73ab8d0",
        "colab": {
          "base_uri": "https://localhost:8080/"
        }
      },
      "execution_count": null,
      "outputs": [
        {
          "output_type": "execute_result",
          "data": {
            "text/plain": [
              "True"
            ]
          },
          "metadata": {},
          "execution_count": 32
        }
      ]
    },
    {
      "cell_type": "code",
      "source": [
        "a=\"Arshiya\"\n",
        "b=\"Lubna\"\n",
        "a is b"
      ],
      "metadata": {
        "id": "BXzzN58Z0SQy",
        "outputId": "1b6afe08-60cc-4479-b255-a1881e074771",
        "colab": {
          "base_uri": "https://localhost:8080/"
        }
      },
      "execution_count": null,
      "outputs": [
        {
          "output_type": "execute_result",
          "data": {
            "text/plain": [
              "False"
            ]
          },
          "metadata": {},
          "execution_count": 33
        }
      ]
    },
    {
      "cell_type": "code",
      "source": [
        "days=[\"monday\",\"tuesday\",\"wednesday\",\"thursday\",\"friday\",\"saturday\",\"sunday\"]\n",
        "del[days[1]]\n",
        "days"
      ],
      "metadata": {
        "id": "k6l-QDGu0Ykb",
        "outputId": "b7fa3070-001a-4200-babc-517c6aac5c7d",
        "colab": {
          "base_uri": "https://localhost:8080/"
        }
      },
      "execution_count": null,
      "outputs": [
        {
          "output_type": "execute_result",
          "data": {
            "text/plain": [
              "['monday', 'wednesday', 'thursday', 'friday', 'saturday', 'sunday']"
            ]
          },
          "metadata": {},
          "execution_count": 34
        }
      ]
    },
    {
      "cell_type": "code",
      "source": [
        "#Methods"
      ],
      "metadata": {
        "id": "UrJg99CFwonX"
      },
      "execution_count": null,
      "outputs": []
    },
    {
      "cell_type": "code",
      "source": [
        "a=[\"a\",\"b\",\"c\",\"d\",\"e\"]\n",
        "print(a)\n",
        "a.append(\"e\")\n",
        "print(a)"
      ],
      "metadata": {
        "id": "OYfqqHi60dUx",
        "outputId": "8845f064-91af-4613-f701-60575db31851",
        "colab": {
          "base_uri": "https://localhost:8080/"
        }
      },
      "execution_count": null,
      "outputs": [
        {
          "output_type": "stream",
          "name": "stdout",
          "text": [
            "['a', 'b', 'c', 'd', 'e']\n",
            "['a', 'b', 'c', 'd', 'e', 'e']\n"
          ]
        }
      ]
    },
    {
      "cell_type": "code",
      "source": [
        "list=[\"red\",\"white\",\"pink\",\"black\"]\n",
        "print(list)\n",
        "list.clear()\n",
        "print(list)"
      ],
      "metadata": {
        "id": "XYwEJttDvGay",
        "outputId": "9524db26-6777-448a-9354-94eb2c6c9051",
        "colab": {
          "base_uri": "https://localhost:8080/"
        }
      },
      "execution_count": null,
      "outputs": [
        {
          "output_type": "stream",
          "name": "stdout",
          "text": [
            "['red', 'white', 'pink', 'black']\n",
            "[]\n"
          ]
        }
      ]
    },
    {
      "cell_type": "code",
      "source": [
        "z=[1,3,4,5,1,3,6,1,4,7,1,4,8]\n",
        "print(z)\n",
        "z.count(1)"
      ],
      "metadata": {
        "id": "7nhNcMipveAB",
        "outputId": "0035d455-bfd3-4b86-f9fa-3a32a3dc6c32",
        "colab": {
          "base_uri": "https://localhost:8080/"
        }
      },
      "execution_count": null,
      "outputs": [
        {
          "output_type": "stream",
          "name": "stdout",
          "text": [
            "[1, 3, 4, 5, 1, 3, 6, 1, 4, 7, 1, 4, 8]\n"
          ]
        },
        {
          "output_type": "execute_result",
          "data": {
            "text/plain": [
              "4"
            ]
          },
          "metadata": {},
          "execution_count": 8
        }
      ]
    },
    {
      "cell_type": "code",
      "source": [
        "A=[1,2,3,4,5]\n",
        "B=[6,7,8,9,10]\n",
        "print(A)\n",
        "print(B)\n",
        "A.extend(B)\n",
        "print(A)"
      ],
      "metadata": {
        "id": "WMiMlPVGv-Jx",
        "outputId": "f041d005-04dc-475c-ca0a-a2f2aa3f40b2",
        "colab": {
          "base_uri": "https://localhost:8080/"
        }
      },
      "execution_count": null,
      "outputs": [
        {
          "output_type": "stream",
          "name": "stdout",
          "text": [
            "[1, 2, 3, 4, 5]\n",
            "[6, 7, 8, 9, 10]\n",
            "[1, 2, 3, 4, 5, 6, 7, 8, 9, 10]\n"
          ]
        }
      ]
    },
    {
      "cell_type": "code",
      "source": [
        "#Tuples"
      ],
      "metadata": {
        "id": "9v8GIoWuwg4P"
      },
      "execution_count": null,
      "outputs": []
    },
    {
      "cell_type": "code",
      "source": [
        "#creating a tuple\n",
        "a=(5,)\n",
        "print(type(a))"
      ],
      "metadata": {
        "id": "coU9biF1wmSX",
        "outputId": "d0634111-cd8b-4e6e-f022-0455695324c7",
        "colab": {
          "base_uri": "https://localhost:8080/"
        }
      },
      "execution_count": null,
      "outputs": [
        {
          "output_type": "stream",
          "name": "stdout",
          "text": [
            "<class 'tuple'>\n"
          ]
        }
      ]
    },
    {
      "cell_type": "code",
      "source": [
        "b=[1,2,3,4,5,]\n",
        "print(b)\n",
        "print(type(b))"
      ],
      "metadata": {
        "id": "NwNEw6GNwypI",
        "outputId": "3c7d01b2-088f-490a-d928-c2e9bc32e0f0",
        "colab": {
          "base_uri": "https://localhost:8080/"
        }
      },
      "execution_count": null,
      "outputs": [
        {
          "output_type": "stream",
          "name": "stdout",
          "text": [
            "[1, 2, 3, 4, 5]\n",
            "<class 'list'>\n"
          ]
        }
      ]
    },
    {
      "cell_type": "code",
      "source": [
        "mix=[\"Hello\",786,23.323]\n",
        "print(mix)\n",
        "print(type(mix))"
      ],
      "metadata": {
        "id": "YSpa6IYVxBl4",
        "outputId": "2acf1377-279c-43f9-a86e-d57d3e381d5f",
        "colab": {
          "base_uri": "https://localhost:8080/"
        }
      },
      "execution_count": null,
      "outputs": [
        {
          "output_type": "stream",
          "name": "stdout",
          "text": [
            "['Hello', 786, 23.323]\n",
            "<class 'list'>\n"
          ]
        }
      ]
    },
    {
      "cell_type": "code",
      "source": [
        "#Creating items of tuple\n",
        "z=(1,2,3,4,\"Hello\")\n",
        "print(z[4])"
      ],
      "metadata": {
        "id": "mppDBsXgxPbA",
        "outputId": "206da496-49e2-4d69-fbd1-c311bcd4c3de",
        "colab": {
          "base_uri": "https://localhost:8080/"
        }
      },
      "execution_count": null,
      "outputs": [
        {
          "output_type": "stream",
          "name": "stdout",
          "text": [
            "Hello\n"
          ]
        }
      ]
    },
    {
      "cell_type": "code",
      "source": [
        "#Dictionary"
      ],
      "metadata": {
        "id": "75c9HR7Gxaj_"
      },
      "execution_count": null,
      "outputs": []
    },
    {
      "cell_type": "code",
      "source": [
        "a={\n",
        "    \"name\":\"SAM\",\n",
        "    \"age\":20,\n",
        "    \"Education\":\"BTech\"\n",
        "}\n",
        "print(a)"
      ],
      "metadata": {
        "id": "4KfNMnB1xcom",
        "outputId": "6e6e999c-ccea-45b6-82cd-84db78dbef5e",
        "colab": {
          "base_uri": "https://localhost:8080/"
        }
      },
      "execution_count": null,
      "outputs": [
        {
          "output_type": "stream",
          "name": "stdout",
          "text": [
            "{'name': 'SAM', 'age': 20, 'Education': 'BTech'}\n"
          ]
        }
      ]
    },
    {
      "cell_type": "code",
      "source": [
        "len(a)"
      ],
      "metadata": {
        "id": "YF26U5DOx_bW",
        "outputId": "82d5462d-3344-45b9-cbfe-bbe3606b080e",
        "colab": {
          "base_uri": "https://localhost:8080/"
        }
      },
      "execution_count": null,
      "outputs": [
        {
          "output_type": "execute_result",
          "data": {
            "text/plain": [
              "3"
            ]
          },
          "metadata": {},
          "execution_count": 21
        }
      ]
    },
    {
      "cell_type": "code",
      "source": [
        "type(a)"
      ],
      "metadata": {
        "id": "rhAKTB3yyIsP",
        "outputId": "f1f5de14-a627-4147-84e5-ade7d1535924",
        "colab": {
          "base_uri": "https://localhost:8080/"
        }
      },
      "execution_count": null,
      "outputs": [
        {
          "output_type": "execute_result",
          "data": {
            "text/plain": [
              "dict"
            ]
          },
          "metadata": {},
          "execution_count": 22
        }
      ]
    },
    {
      "cell_type": "code",
      "source": [
        "x=a.keys()\n",
        "y=a.values()\n",
        "z=a.items()\n",
        "print(x)\n",
        "print(y)\n",
        "print(z)"
      ],
      "metadata": {
        "id": "SfXojQYwyMzG",
        "outputId": "a69b6c7c-9b01-4f69-91e9-a32d7747dfad",
        "colab": {
          "base_uri": "https://localhost:8080/"
        }
      },
      "execution_count": null,
      "outputs": [
        {
          "output_type": "stream",
          "name": "stdout",
          "text": [
            "dict_keys(['name', 'age', 'Education'])\n",
            "dict_values(['SAM', 20, 'BTech'])\n",
            "dict_items([('name', 'SAM'), ('age', 20), ('Education', 'BTech')])\n"
          ]
        }
      ]
    },
    {
      "cell_type": "code",
      "source": [
        "#Python sets"
      ],
      "metadata": {
        "id": "ShrEJ63Tyb1O"
      },
      "execution_count": null,
      "outputs": []
    },
    {
      "cell_type": "code",
      "source": [
        "#example\n",
        "set1={1,2,3,4}\n",
        "print(set1)"
      ],
      "metadata": {
        "id": "nruNKGGTyzDG",
        "outputId": "cd40338c-24af-48bf-aabd-86dcb4f61440",
        "colab": {
          "base_uri": "https://localhost:8080/"
        }
      },
      "execution_count": null,
      "outputs": [
        {
          "output_type": "stream",
          "name": "stdout",
          "text": [
            "{1, 2, 3, 4}\n"
          ]
        }
      ]
    },
    {
      "cell_type": "code",
      "source": [
        "#duplicates not allowed\n",
        "set={1,2,3,4,1,2,34,4,1,3,3,4,5,7}\n",
        "print(set)"
      ],
      "metadata": {
        "id": "zWY5LHn505ml",
        "outputId": "edac8eb5-2c77-44aa-c7d9-5e95e1a3f261",
        "colab": {
          "base_uri": "https://localhost:8080/"
        }
      },
      "execution_count": null,
      "outputs": [
        {
          "output_type": "stream",
          "name": "stdout",
          "text": [
            "{1, 2, 3, 4, 34, 5, 7}\n"
          ]
        }
      ]
    },
    {
      "cell_type": "code",
      "source": [
        "len(set)"
      ],
      "metadata": {
        "id": "ccWEv9gG1C28",
        "outputId": "7563fc01-fddc-4689-f8a6-9ae30de04cea",
        "colab": {
          "base_uri": "https://localhost:8080/"
        }
      },
      "execution_count": null,
      "outputs": [
        {
          "output_type": "execute_result",
          "data": {
            "text/plain": [
              "7"
            ]
          },
          "metadata": {},
          "execution_count": 31
        }
      ]
    },
    {
      "cell_type": "code",
      "source": [
        "type(set)"
      ],
      "metadata": {
        "id": "JK_ShHFT2mtq",
        "outputId": "67636b7b-66c3-473b-ed74-17027982c81b",
        "colab": {
          "base_uri": "https://localhost:8080/"
        }
      },
      "execution_count": null,
      "outputs": [
        {
          "output_type": "execute_result",
          "data": {
            "text/plain": [
              "set"
            ]
          },
          "metadata": {},
          "execution_count": 32
        }
      ]
    },
    {
      "cell_type": "code",
      "source": [
        "import numpy as np\n",
        "print(np.__version__)"
      ],
      "metadata": {
        "id": "WCuqhzNL2oaC",
        "outputId": "8ed058d4-4d43-4ea6-ea26-aa63d211b435",
        "colab": {
          "base_uri": "https://localhost:8080/"
        }
      },
      "execution_count": null,
      "outputs": [
        {
          "output_type": "stream",
          "name": "stdout",
          "text": [
            "1.23.5\n"
          ]
        }
      ]
    },
    {
      "cell_type": "code",
      "source": [
        "#1D array\n",
        "import numpy as np"
      ],
      "metadata": {
        "id": "mMacqIKC5eWI"
      },
      "execution_count": null,
      "outputs": []
    },
    {
      "cell_type": "code",
      "source": [
        "A1=np.array([1,2,3,4])\n",
        "print(A1)"
      ],
      "metadata": {
        "id": "ZXTjKBR-5sIY",
        "outputId": "de58e651-411b-4120-dd89-fc451547b687",
        "colab": {
          "base_uri": "https://localhost:8080/"
        }
      },
      "execution_count": null,
      "outputs": [
        {
          "output_type": "stream",
          "name": "stdout",
          "text": [
            "[1 2 3 4]\n"
          ]
        }
      ]
    },
    {
      "cell_type": "code",
      "source": [
        "type(A1)"
      ],
      "metadata": {
        "id": "FgTGi98l5yba",
        "outputId": "5d7c7d50-e694-4afe-8c9f-15cf70171cd4",
        "colab": {
          "base_uri": "https://localhost:8080/"
        }
      },
      "execution_count": null,
      "outputs": [
        {
          "output_type": "execute_result",
          "data": {
            "text/plain": [
              "numpy.ndarray"
            ]
          },
          "metadata": {},
          "execution_count": 38
        }
      ]
    },
    {
      "cell_type": "code",
      "source": [
        "A1.shape"
      ],
      "metadata": {
        "id": "DOhjpo1y50Qh",
        "outputId": "292cfb49-c0e2-4e8b-8b26-6d0c56b33257",
        "colab": {
          "base_uri": "https://localhost:8080/"
        }
      },
      "execution_count": null,
      "outputs": [
        {
          "output_type": "execute_result",
          "data": {
            "text/plain": [
              "(4,)"
            ]
          },
          "metadata": {},
          "execution_count": 39
        }
      ]
    },
    {
      "cell_type": "code",
      "source": [
        "A1.size"
      ],
      "metadata": {
        "id": "WdQjAQ4n57nJ",
        "outputId": "87f33578-36ad-4e31-fed7-8e0c411a3521",
        "colab": {
          "base_uri": "https://localhost:8080/"
        }
      },
      "execution_count": null,
      "outputs": [
        {
          "output_type": "execute_result",
          "data": {
            "text/plain": [
              "4"
            ]
          },
          "metadata": {},
          "execution_count": 40
        }
      ]
    },
    {
      "cell_type": "code",
      "source": [
        "#2D array\n",
        "A2=np.array([[1,2,3,4],[5,6,7,8,]])\n",
        "print(A2)"
      ],
      "metadata": {
        "id": "5skA5eM559sS",
        "outputId": "141e3a13-5d2f-465e-938b-49d0eabcfabb",
        "colab": {
          "base_uri": "https://localhost:8080/"
        }
      },
      "execution_count": null,
      "outputs": [
        {
          "output_type": "stream",
          "name": "stdout",
          "text": [
            "[[1 2 3 4]\n",
            " [5 6 7 8]]\n"
          ]
        }
      ]
    },
    {
      "cell_type": "code",
      "source": [
        "print(type(A2))\n",
        "print(A2.size)\n",
        "print(A2.shape)\n",
        "print(A2.ndim)"
      ],
      "metadata": {
        "id": "llEQ9q7J6aTo",
        "outputId": "cd464d31-c5fb-4e74-956a-9284084a6c7b",
        "colab": {
          "base_uri": "https://localhost:8080/"
        }
      },
      "execution_count": null,
      "outputs": [
        {
          "output_type": "stream",
          "name": "stdout",
          "text": [
            "<class 'numpy.ndarray'>\n",
            "8\n",
            "(2, 4)\n",
            "2\n"
          ]
        }
      ]
    },
    {
      "cell_type": "code",
      "source": [
        "#3D array\n",
        "\n",
        "A3=np.array([[[1,2,3],[4,5,6],[7,8,9]]])\n",
        "print(A3)"
      ],
      "metadata": {
        "id": "Tj203u6i7Hjv",
        "outputId": "2f9e523f-930a-4b1f-d521-b840b654b067",
        "colab": {
          "base_uri": "https://localhost:8080/"
        }
      },
      "execution_count": null,
      "outputs": [
        {
          "output_type": "stream",
          "name": "stdout",
          "text": [
            "[[[1 2 3]\n",
            "  [4 5 6]\n",
            "  [7 8 9]]]\n"
          ]
        }
      ]
    },
    {
      "cell_type": "code",
      "source": [
        "print(type(A3))\n",
        "print(A3.size)\n",
        "print(A3.shape)\n"
      ],
      "metadata": {
        "id": "uIT2QQW77f_e",
        "outputId": "339c2b9f-6385-46e0-8856-1941aa83ac96",
        "colab": {
          "base_uri": "https://localhost:8080/"
        }
      },
      "execution_count": null,
      "outputs": [
        {
          "output_type": "stream",
          "name": "stdout",
          "text": [
            "<class 'numpy.ndarray'>\n",
            "9\n",
            "(1, 3, 3)\n",
            "\n"
          ]
        }
      ]
    },
    {
      "cell_type": "code",
      "source": [
        "import numpy as np\n",
        "z1=np.zeros(3)\n",
        "z1"
      ],
      "metadata": {
        "id": "0pBrfNov7prm",
        "outputId": "5babb1e6-e586-4f6a-c8c8-ef4b6d5ae4db",
        "colab": {
          "base_uri": "https://localhost:8080/"
        }
      },
      "execution_count": 2,
      "outputs": [
        {
          "output_type": "execute_result",
          "data": {
            "text/plain": [
              "array([0., 0., 0.])"
            ]
          },
          "metadata": {},
          "execution_count": 2
        }
      ]
    },
    {
      "cell_type": "code",
      "source": [
        "#changing data type\n",
        "\n",
        "z1=np.zeros(3,dtype=int)\n",
        "z1"
      ],
      "metadata": {
        "id": "lrpXHetXJPwy",
        "outputId": "6e893413-75e8-4113-e3fb-7294f85ef89b",
        "colab": {
          "base_uri": "https://localhost:8080/"
        }
      },
      "execution_count": 3,
      "outputs": [
        {
          "output_type": "execute_result",
          "data": {
            "text/plain": [
              "array([0, 0, 0])"
            ]
          },
          "metadata": {},
          "execution_count": 3
        }
      ]
    },
    {
      "cell_type": "code",
      "source": [
        "print(z1.shape)\n",
        "print(z1.size)\n",
        "print(z1.ndim)\n",
        "print(type(z1))"
      ],
      "metadata": {
        "id": "yfTTr3PgJkzF",
        "outputId": "19d40ae1-788f-4aa4-f707-aa4bff7e3b44",
        "colab": {
          "base_uri": "https://localhost:8080/"
        }
      },
      "execution_count": 6,
      "outputs": [
        {
          "output_type": "stream",
          "name": "stdout",
          "text": [
            "(3,)\n",
            "3\n",
            "1\n",
            "<class 'numpy.ndarray'>\n"
          ]
        }
      ]
    },
    {
      "cell_type": "code",
      "source": [
        "z2=np.zeros((3,4))\n",
        "z2"
      ],
      "metadata": {
        "id": "B7twY-DzKK3B",
        "outputId": "5821d0b9-26e7-44ed-ac24-0c082b1375b5",
        "colab": {
          "base_uri": "https://localhost:8080/"
        }
      },
      "execution_count": 7,
      "outputs": [
        {
          "output_type": "execute_result",
          "data": {
            "text/plain": [
              "array([[0., 0., 0., 0.],\n",
              "       [0., 0., 0., 0.],\n",
              "       [0., 0., 0., 0.]])"
            ]
          },
          "metadata": {},
          "execution_count": 7
        }
      ]
    },
    {
      "cell_type": "code",
      "source": [
        "z2=np.zeros((3,4),dtype=int)\n",
        "z2"
      ],
      "metadata": {
        "id": "PQWkAH9OKqrs",
        "outputId": "94641198-c0a2-431c-9060-9ca962e87a0d",
        "colab": {
          "base_uri": "https://localhost:8080/"
        }
      },
      "execution_count": 8,
      "outputs": [
        {
          "output_type": "execute_result",
          "data": {
            "text/plain": [
              "array([[0, 0, 0, 0],\n",
              "       [0, 0, 0, 0],\n",
              "       [0, 0, 0, 0]])"
            ]
          },
          "metadata": {},
          "execution_count": 8
        }
      ]
    },
    {
      "cell_type": "code",
      "source": [
        "print(z2.shape)\n",
        "print(z2.size)\n",
        "print(z2.ndim)\n",
        "print(type(z2))"
      ],
      "metadata": {
        "id": "jaCjNBHKK0Z0",
        "outputId": "73c55877-4047-42f3-fa11-9ca87b7b01ad",
        "colab": {
          "base_uri": "https://localhost:8080/"
        }
      },
      "execution_count": 10,
      "outputs": [
        {
          "output_type": "stream",
          "name": "stdout",
          "text": [
            "(3, 4)\n",
            "12\n",
            "2\n",
            "<class 'numpy.ndarray'>\n"
          ]
        }
      ]
    },
    {
      "cell_type": "code",
      "source": [
        "z3=np.zeros((2,3,4),dtype=int)\n",
        "z3"
      ],
      "metadata": {
        "id": "BcRa69XTLrWv",
        "outputId": "3837f2b3-1dde-4863-8e08-5fdb3db77c53",
        "colab": {
          "base_uri": "https://localhost:8080/"
        }
      },
      "execution_count": 11,
      "outputs": [
        {
          "output_type": "execute_result",
          "data": {
            "text/plain": [
              "array([[[0, 0, 0, 0],\n",
              "        [0, 0, 0, 0],\n",
              "        [0, 0, 0, 0]],\n",
              "\n",
              "       [[0, 0, 0, 0],\n",
              "        [0, 0, 0, 0],\n",
              "        [0, 0, 0, 0]]])"
            ]
          },
          "metadata": {},
          "execution_count": 11
        }
      ]
    },
    {
      "cell_type": "code",
      "source": [
        "print(z3.shape)\n",
        "print(z3.size)\n",
        "print(z3.ndim)\n",
        "print(type(z3))"
      ],
      "metadata": {
        "id": "qKjZY9KpMAnT",
        "outputId": "3bc92641-d799-4945-dc70-832f4f4b465f",
        "colab": {
          "base_uri": "https://localhost:8080/"
        }
      },
      "execution_count": 12,
      "outputs": [
        {
          "output_type": "stream",
          "name": "stdout",
          "text": [
            "(2, 3, 4)\n",
            "24\n",
            "3\n",
            "<class 'numpy.ndarray'>\n"
          ]
        }
      ]
    },
    {
      "cell_type": "code",
      "source": [
        " #1D ones array\n",
        " import numpy as np\n",
        " a1=np.ones(3,dtype=int)\n",
        " a1"
      ],
      "metadata": {
        "id": "lXxa4PQSMK9s",
        "outputId": "2ad05ab2-a781-4849-dd95-06bd1879ebbb",
        "colab": {
          "base_uri": "https://localhost:8080/"
        }
      },
      "execution_count": 14,
      "outputs": [
        {
          "output_type": "execute_result",
          "data": {
            "text/plain": [
              "array([1, 1, 1])"
            ]
          },
          "metadata": {},
          "execution_count": 14
        }
      ]
    },
    {
      "cell_type": "code",
      "source": [
        "print(a1.shape)\n",
        "print(a1.size)\n",
        "print(a1.ndim)"
      ],
      "metadata": {
        "id": "eKgZjtr-N7f9",
        "outputId": "0997b2bd-5822-445e-c5e4-dc934f0635fd",
        "colab": {
          "base_uri": "https://localhost:8080/"
        }
      },
      "execution_count": 17,
      "outputs": [
        {
          "output_type": "stream",
          "name": "stdout",
          "text": [
            "(3,)\n",
            "3\n",
            "1\n"
          ]
        }
      ]
    },
    {
      "cell_type": "code",
      "source": [
        "a2=np.ones([3,4],dtype=int)\n",
        "a2"
      ],
      "metadata": {
        "id": "dVhOB0-ZOJzs",
        "outputId": "31c59f75-5567-4920-f800-271126ee5f56",
        "colab": {
          "base_uri": "https://localhost:8080/"
        }
      },
      "execution_count": 16,
      "outputs": [
        {
          "output_type": "execute_result",
          "data": {
            "text/plain": [
              "array([[1, 1, 1, 1],\n",
              "       [1, 1, 1, 1],\n",
              "       [1, 1, 1, 1]])"
            ]
          },
          "metadata": {},
          "execution_count": 16
        }
      ]
    },
    {
      "cell_type": "code",
      "source": [
        "print(a2.shape)\n",
        "print(a2.size)\n",
        "print(a2.ndim)"
      ],
      "metadata": {
        "id": "JWYCpqRkOWCG",
        "outputId": "e3bb8a4b-3a9e-4a49-a435-10f001427bd0",
        "colab": {
          "base_uri": "https://localhost:8080/"
        }
      },
      "execution_count": 18,
      "outputs": [
        {
          "output_type": "stream",
          "name": "stdout",
          "text": [
            "(3, 4)\n",
            "12\n",
            "2\n"
          ]
        }
      ]
    },
    {
      "cell_type": "code",
      "source": [
        "a3=np.ones([4,2,3],dtype=int)\n",
        "a3"
      ],
      "metadata": {
        "id": "ub_iDX6aOhYe",
        "outputId": "d9714aa3-a19a-4f11-f185-2eddcdab7154",
        "colab": {
          "base_uri": "https://localhost:8080/"
        }
      },
      "execution_count": 23,
      "outputs": [
        {
          "output_type": "execute_result",
          "data": {
            "text/plain": [
              "array([[[1, 1, 1],\n",
              "        [1, 1, 1]],\n",
              "\n",
              "       [[1, 1, 1],\n",
              "        [1, 1, 1]],\n",
              "\n",
              "       [[1, 1, 1],\n",
              "        [1, 1, 1]],\n",
              "\n",
              "       [[1, 1, 1],\n",
              "        [1, 1, 1]]])"
            ]
          },
          "metadata": {},
          "execution_count": 23
        }
      ]
    },
    {
      "cell_type": "code",
      "source": [
        "print(a3.shape)\n",
        "print(a3.size)\n",
        "print(a3.ndim)"
      ],
      "metadata": {
        "id": "M83OhA30Or3d",
        "outputId": "72045286-9832-4a77-a597-ce1f7f2d8c5a",
        "colab": {
          "base_uri": "https://localhost:8080/"
        }
      },
      "execution_count": 24,
      "outputs": [
        {
          "output_type": "stream",
          "name": "stdout",
          "text": [
            "(4, 2, 3)\n",
            "24\n",
            "3\n"
          ]
        }
      ]
    },
    {
      "cell_type": "code",
      "source": [
        "#1D full array\n",
        "f1=np.full(3,9)\n",
        "f1"
      ],
      "metadata": {
        "id": "iPBxo1eWOyEi",
        "outputId": "3b33d773-040c-4931-e8e1-3134eaca5916",
        "colab": {
          "base_uri": "https://localhost:8080/"
        }
      },
      "execution_count": 25,
      "outputs": [
        {
          "output_type": "execute_result",
          "data": {
            "text/plain": [
              "array([9, 9, 9])"
            ]
          },
          "metadata": {},
          "execution_count": 25
        }
      ]
    },
    {
      "cell_type": "code",
      "source": [
        "f1=np.full(3,9,dtype=float)\n",
        "f1\n"
      ],
      "metadata": {
        "id": "XMuxgnN9P_I5",
        "outputId": "5b3de33c-72c3-4093-8e45-07b066585519",
        "colab": {
          "base_uri": "https://localhost:8080/"
        }
      },
      "execution_count": 27,
      "outputs": [
        {
          "output_type": "execute_result",
          "data": {
            "text/plain": [
              "array([9., 9., 9.])"
            ]
          },
          "metadata": {},
          "execution_count": 27
        }
      ]
    },
    {
      "cell_type": "code",
      "source": [
        "print(f1.shape)\n",
        "print(f1.size)\n",
        "print(f1.ndim)"
      ],
      "metadata": {
        "id": "DLxuUC5wQby2",
        "outputId": "eed017a2-0458-4274-f3a3-086701fd85f4",
        "colab": {
          "base_uri": "https://localhost:8080/"
        }
      },
      "execution_count": 28,
      "outputs": [
        {
          "output_type": "stream",
          "name": "stdout",
          "text": [
            "(3,)\n",
            "3\n",
            "1\n"
          ]
        }
      ]
    },
    {
      "cell_type": "code",
      "source": [
        "#2D full array\n",
        "f2=np.full([2,3],9)\n",
        "f2"
      ],
      "metadata": {
        "id": "adysTrlURZ47",
        "outputId": "3f703c4b-38e8-4015-e250-89809b52eaef",
        "colab": {
          "base_uri": "https://localhost:8080/"
        }
      },
      "execution_count": 30,
      "outputs": [
        {
          "output_type": "execute_result",
          "data": {
            "text/plain": [
              "array([[9, 9, 9],\n",
              "       [9, 9, 9]])"
            ]
          },
          "metadata": {},
          "execution_count": 30
        }
      ]
    },
    {
      "cell_type": "code",
      "source": [
        "#3D full array\n",
        "f3=np.full([4,2,3],10)\n",
        "f3\n"
      ],
      "metadata": {
        "id": "y4rVFst8RlZn",
        "outputId": "acef2f14-3981-423e-9edf-599409dbe127",
        "colab": {
          "base_uri": "https://localhost:8080/"
        }
      },
      "execution_count": 32,
      "outputs": [
        {
          "output_type": "execute_result",
          "data": {
            "text/plain": [
              "array([[[10, 10, 10],\n",
              "        [10, 10, 10]],\n",
              "\n",
              "       [[10, 10, 10],\n",
              "        [10, 10, 10]],\n",
              "\n",
              "       [[10, 10, 10],\n",
              "        [10, 10, 10]],\n",
              "\n",
              "       [[10, 10, 10],\n",
              "        [10, 10, 10]]])"
            ]
          },
          "metadata": {},
          "execution_count": 32
        }
      ]
    },
    {
      "cell_type": "code",
      "source": [
        "f3=np.full([4,2,3],10,dtype=int)\n",
        "f3"
      ],
      "metadata": {
        "id": "Jau6VHPGRugN",
        "outputId": "e6ffe4d2-e9df-43bb-f7bb-370155bbe78d",
        "colab": {
          "base_uri": "https://localhost:8080/"
        }
      },
      "execution_count": 34,
      "outputs": [
        {
          "output_type": "execute_result",
          "data": {
            "text/plain": [
              "array([[[10, 10, 10],\n",
              "        [10, 10, 10]],\n",
              "\n",
              "       [[10, 10, 10],\n",
              "        [10, 10, 10]],\n",
              "\n",
              "       [[10, 10, 10],\n",
              "        [10, 10, 10]],\n",
              "\n",
              "       [[10, 10, 10],\n",
              "        [10, 10, 10]]])"
            ]
          },
          "metadata": {},
          "execution_count": 34
        }
      ]
    },
    {
      "cell_type": "code",
      "source": [
        "f3=np.full([4,2,3],10,dtype='str')\n",
        "\n",
        "f3"
      ],
      "metadata": {
        "id": "6_iWJ6TER3S7",
        "outputId": "60ea530e-d907-465b-a1e2-e41986aea9f7",
        "colab": {
          "base_uri": "https://localhost:8080/"
        }
      },
      "execution_count": 36,
      "outputs": [
        {
          "output_type": "execute_result",
          "data": {
            "text/plain": [
              "array([[['1', '1', '1'],\n",
              "        ['1', '1', '1']],\n",
              "\n",
              "       [['1', '1', '1'],\n",
              "        ['1', '1', '1']],\n",
              "\n",
              "       [['1', '1', '1'],\n",
              "        ['1', '1', '1']],\n",
              "\n",
              "       [['1', '1', '1'],\n",
              "        ['1', '1', '1']]], dtype='<U1')"
            ]
          },
          "metadata": {},
          "execution_count": 36
        }
      ]
    },
    {
      "cell_type": "code",
      "source": [
        "a=np.array([1,2,3])\n",
        "b=np.array([1,2,3])\n",
        "\n",
        "add=np.add(a,b)\n",
        "add"
      ],
      "metadata": {
        "id": "fGxwGgeOSWh7",
        "outputId": "d0b17c14-f120-4f69-8f7a-9e5e1014d849",
        "colab": {
          "base_uri": "https://localhost:8080/"
        }
      },
      "execution_count": 37,
      "outputs": [
        {
          "output_type": "execute_result",
          "data": {
            "text/plain": [
              "array([2, 4, 6])"
            ]
          },
          "metadata": {},
          "execution_count": 37
        }
      ]
    },
    {
      "cell_type": "code",
      "source": [
        "a=np.array([5,10,20])\n",
        "b=np.array([4,8,10])\n",
        "\n",
        "sub=np.subtract(a,b)\n",
        "sub"
      ],
      "metadata": {
        "id": "dCpmyzw3Tc1V",
        "outputId": "4718e63f-34e6-4ef3-e58a-cb4a98d6aaa1",
        "colab": {
          "base_uri": "https://localhost:8080/"
        }
      },
      "execution_count": 39,
      "outputs": [
        {
          "output_type": "execute_result",
          "data": {
            "text/plain": [
              "array([ 1,  2, 10])"
            ]
          },
          "metadata": {},
          "execution_count": 39
        }
      ]
    },
    {
      "cell_type": "code",
      "source": [
        "a=np.array([5,10,20])\n",
        "b=np.array([4,8,10])\n",
        "\n",
        "mul=np.multiply(a,b)\n",
        "mul"
      ],
      "metadata": {
        "id": "gcnJJCe0TtUb",
        "outputId": "104e5cf1-28e7-4205-d274-62014eeb1915",
        "colab": {
          "base_uri": "https://localhost:8080/"
        }
      },
      "execution_count": 41,
      "outputs": [
        {
          "output_type": "execute_result",
          "data": {
            "text/plain": [
              "array([ 20,  80, 200])"
            ]
          },
          "metadata": {},
          "execution_count": 41
        }
      ]
    },
    {
      "cell_type": "code",
      "source": [
        "a=np.array([5,10,20])\n",
        "b=np.array([4,8,10])\n",
        "\n",
        "div=np.divide(a,b)\n",
        "div"
      ],
      "metadata": {
        "id": "_jdd7rBBT9Ks",
        "outputId": "ae5e265c-ab56-4d32-fab8-8fdeee121ade",
        "colab": {
          "base_uri": "https://localhost:8080/"
        }
      },
      "execution_count": 42,
      "outputs": [
        {
          "output_type": "execute_result",
          "data": {
            "text/plain": [
              "array([1.25, 1.25, 2.  ])"
            ]
          },
          "metadata": {},
          "execution_count": 42
        }
      ]
    },
    {
      "cell_type": "code",
      "source": [
        "a=np.array([5,10,20])\n",
        "b=np.array([4,8,10])\n",
        "\n",
        "mod=np.mod(a,b)\n",
        "mod"
      ],
      "metadata": {
        "id": "5ttgThVGUEgr",
        "outputId": "534a0ddb-7efc-4724-faee-688e71135a66",
        "colab": {
          "base_uri": "https://localhost:8080/"
        }
      },
      "execution_count": 44,
      "outputs": [
        {
          "output_type": "execute_result",
          "data": {
            "text/plain": [
              "array([1, 2, 0])"
            ]
          },
          "metadata": {},
          "execution_count": 44
        }
      ]
    },
    {
      "cell_type": "code",
      "source": [
        "a=np.array([5,10,20])\n",
        "b=np.array([4,8,10])\n",
        "\n",
        "power=np.power(a,b)\n",
        "power"
      ],
      "metadata": {
        "id": "wSZQsYhNUJtT",
        "outputId": "b8ea3939-5634-4cc0-fa3f-fbbab899bd77",
        "colab": {
          "base_uri": "https://localhost:8080/"
        }
      },
      "execution_count": 45,
      "outputs": [
        {
          "output_type": "execute_result",
          "data": {
            "text/plain": [
              "array([           625,      100000000, 10240000000000])"
            ]
          },
          "metadata": {},
          "execution_count": 45
        }
      ]
    },
    {
      "cell_type": "code",
      "source": [],
      "metadata": {
        "id": "-CBWxv2dUf2r"
      },
      "execution_count": null,
      "outputs": []
    }
  ],
  "metadata": {
    "colab": {
      "name": "Welcome To Colaboratory",
      "toc_visible": true,
      "provenance": [],
      "include_colab_link": true
    },
    "kernelspec": {
      "display_name": "Python 3",
      "name": "python3"
    }
  },
  "nbformat": 4,
  "nbformat_minor": 0
}