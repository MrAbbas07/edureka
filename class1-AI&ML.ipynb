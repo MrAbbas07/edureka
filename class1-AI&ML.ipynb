{
  "cells": [
    {
      "cell_type": "markdown",
      "metadata": {
        "id": "view-in-github",
        "colab_type": "text"
      },
      "source": [
        "<a href=\"https://colab.research.google.com/github/MrAbbas07/edureka/blob/main/class1-AI%26ML.ipynb\" target=\"_parent\"><img src=\"https://colab.research.google.com/assets/colab-badge.svg\" alt=\"Open In Colab\"/></a>"
      ]
    },
    {
      "cell_type": "code",
      "source": [
        "import keyword\n",
        "print(keyword.kwlist)\n",
        "a=len(keyword.kwlist)\n",
        "print(a)"
      ],
      "metadata": {
        "id": "nwHnW-4bt7te",
        "outputId": "3f30e55e-cceb-4216-a413-e0aee6e8245d",
        "colab": {
          "base_uri": "https://localhost:8080/"
        }
      },
      "execution_count": 4,
      "outputs": [
        {
          "output_type": "stream",
          "name": "stdout",
          "text": [
            "['False', 'None', 'True', 'and', 'as', 'assert', 'async', 'await', 'break', 'class', 'continue', 'def', 'del', 'elif', 'else', 'except', 'finally', 'for', 'from', 'global', 'if', 'import', 'in', 'is', 'lambda', 'nonlocal', 'not', 'or', 'pass', 'raise', 'return', 'try', 'while', 'with', 'yield']\n",
            "35\n"
          ]
        }
      ]
    },
    {
      "cell_type": "code",
      "source": [
        "print(\"Hello Abbas <3\")\n",
        "\"\"\"\n",
        "multi\n",
        "line\n",
        "comment\n",
        "\"\"\"\n",
        "print(\"Hello CSG Peaople\")"
      ],
      "metadata": {
        "id": "y03dHACSvWOg",
        "outputId": "4b4895ba-8eb8-4b6f-d9f5-00f297e3a24f",
        "colab": {
          "base_uri": "https://localhost:8080/"
        }
      },
      "execution_count": 5,
      "outputs": [
        {
          "output_type": "stream",
          "name": "stdout",
          "text": [
            "Hello Abbas <3\n",
            "Hello CSG Peaople\n"
          ]
        }
      ]
    },
    {
      "cell_type": "code",
      "source": [
        "a=50\n",
        "b=50\n",
        "c=a+b\n",
        "print(c)\n",
        "c\n",
        "x=\"Hello peeps\"\n",
        "x"
      ],
      "metadata": {
        "id": "HmwaobARwEVC",
        "outputId": "2adfa4a3-c6da-4aba-b898-00e8d908a5aa",
        "colab": {
          "base_uri": "https://localhost:8080/",
          "height": 53
        }
      },
      "execution_count": 9,
      "outputs": [
        {
          "output_type": "stream",
          "name": "stdout",
          "text": [
            "100\n"
          ]
        },
        {
          "output_type": "execute_result",
          "data": {
            "text/plain": [
              "'Hello peeps'"
            ],
            "application/vnd.google.colaboratory.intrinsic+json": {
              "type": "string"
            }
          },
          "metadata": {},
          "execution_count": 9
        }
      ]
    },
    {
      "cell_type": "code",
      "source": [
        "#creating a list with constructor()"
      ],
      "metadata": {
        "id": "-e6kbsekxcya"
      },
      "execution_count": 10,
      "outputs": []
    },
    {
      "cell_type": "code",
      "source": [
        "a=([1,2,3,4,5])\n",
        "b=([2,4,7.0,6,8])\n",
        "c=([\"Hello\",\"Student\"])\n",
        "print(a)\n",
        "print(b)\n",
        "print(c)\n",
        "type(a)"
      ],
      "metadata": {
        "id": "gLZLub6h0FMy",
        "outputId": "9488578e-7b72-4f63-ad01-b1296fcf51ad",
        "colab": {
          "base_uri": "https://localhost:8080/"
        }
      },
      "execution_count": 12,
      "outputs": [
        {
          "output_type": "stream",
          "name": "stdout",
          "text": [
            "[1, 2, 3, 4, 5]\n",
            "[2, 4, 7.0, 6, 8]\n",
            "['Hello', 'Student']\n"
          ]
        },
        {
          "output_type": "execute_result",
          "data": {
            "text/plain": [
              "list"
            ]
          },
          "metadata": {},
          "execution_count": 12
        }
      ]
    },
    {
      "cell_type": "code",
      "source": [
        "#Creating list with heterogenous data"
      ],
      "metadata": {
        "id": "2fFU9fM30YBS"
      },
      "execution_count": 15,
      "outputs": []
    },
    {
      "cell_type": "code",
      "source": [
        "a=([\"Hello\",8,9,20.77])\n",
        "a"
      ],
      "metadata": {
        "id": "HW3FHntP4DAb",
        "outputId": "cecf35a1-aec6-43a0-a918-fba61b7de736",
        "colab": {
          "base_uri": "https://localhost:8080/"
        }
      },
      "execution_count": 16,
      "outputs": [
        {
          "output_type": "execute_result",
          "data": {
            "text/plain": [
              "['Hello', 8, 9, 20.77]"
            ]
          },
          "metadata": {},
          "execution_count": 16
        }
      ]
    },
    {
      "cell_type": "code",
      "source": [
        "#Creating list using range functions:"
      ],
      "metadata": {
        "id": "KP1S1qy637rL"
      },
      "execution_count": 17,
      "outputs": []
    },
    {
      "cell_type": "code",
      "source": [
        "L=list(range(0,6))\n",
        "print(L)"
      ],
      "metadata": {
        "id": "-1K5O1Ix4Rw6",
        "outputId": "aea0828d-9c51-4378-c3fc-918455ef2a06",
        "colab": {
          "base_uri": "https://localhost:8080/"
        }
      },
      "execution_count": 18,
      "outputs": [
        {
          "output_type": "stream",
          "name": "stdout",
          "text": [
            "[0, 1, 2, 3, 4, 5]\n"
          ]
        }
      ]
    },
    {
      "cell_type": "code",
      "source": [
        "#Creating a list without constructor():"
      ],
      "metadata": {
        "id": "UrAuGkXV4Z5a"
      },
      "execution_count": 19,
      "outputs": []
    },
    {
      "cell_type": "code",
      "source": [
        "days=[\"monday\",\"tuesday\",\"wednesday\",\"thursday\",\"friday\",\"saturday\",\"sunday\"]\n",
        "days"
      ],
      "metadata": {
        "id": "Bvj6Sjt24kd7",
        "outputId": "846a7dd9-5d02-4d1e-f517-0c69579a1804",
        "colab": {
          "base_uri": "https://localhost:8080/"
        }
      },
      "execution_count": 20,
      "outputs": [
        {
          "output_type": "execute_result",
          "data": {
            "text/plain": [
              "['monday', 'tuesday', 'wednesday', 'thursday', 'friday', 'saturday', 'sunday']"
            ]
          },
          "metadata": {},
          "execution_count": 20
        }
      ]
    },
    {
      "cell_type": "code",
      "source": [],
      "metadata": {
        "id": "WtcuwGEZ4zkj"
      },
      "execution_count": null,
      "outputs": []
    }
  ],
  "metadata": {
    "colab": {
      "name": "Welcome To Colaboratory",
      "toc_visible": true,
      "provenance": [],
      "include_colab_link": true
    },
    "kernelspec": {
      "display_name": "Python 3",
      "name": "python3"
    }
  },
  "nbformat": 4,
  "nbformat_minor": 0
}